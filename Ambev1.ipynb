{
 "cells": [
  {
   "cell_type": "code",
   "execution_count": 13,
   "metadata": {},
   "outputs": [
    {
     "name": "stdout",
     "output_type": "stream",
     "text": [
      "[[20.0, 5.0, 1, 0, 1], [10.0, 5.0, 0, 0, 2], [29.0, 4.6, 0, 0, 2], [39.0, 4.0, 1, 1, 40], [18.0, 4.6, 0, 0, 2], [12.0, 5.0, 0, 0, 41], [29.0, 5.0, 2, 0, 40], [12.0, 4.0, 1, 1, 20], [25.0, 4.5, 0, 0, 2], [15.0, 9.0, 1, 2, 44], [55.0, 5.9, 1, 1, 45], [35.0, 8.5, 1, 1, 46], [5.0, 3.0, 2, 1, 20], [15.0, 4.9, 0, 1, 41], [16.0, 8.4, 2, 1, 46], [25.0, 6.6, 1, 3, 40], [21.5, 6.6, 0, 3, 42], [10.0, 0.0, 0, 2, 42], [20.0, 6.5, 0, 3, 43], [17.0, 5.0, 0, 3, 2], [25.0, 9.0, 2, 3, 46], [33.0, 7.5, 1, 1, 42], [10.0, 5.0, 0, 1, 20], [15.0, 8.5, 1, 1, 44], [31.0, 8.4, 1, 3, 44]]\n"
     ]
    },
    {
     "data": {
      "text/plain": [
       "array([2, 2, 6, 1, 2, 3, 1, 0, 6, 7, 4, 1, 0, 3, 7, 5, 5, 3, 5, 2, 5, 1,\n",
       "       0, 7, 1])"
      ]
     },
     "execution_count": 13,
     "metadata": {},
     "output_type": "execute_result"
    }
   ],
   "source": [
    "import pandas as pd\n",
    "from sklearn.cluster import KMeans\n",
    "import numpy as np\n",
    "\n",
    "#importando base de dados\n",
    "df = pd.read_csv(\"MLiHops.csv\")\n",
    "#dp = pd.read_csv(\"tabela que tiver o preco correto\")\n",
    "\n",
    "array1 = []\n",
    "\n",
    "recomendacao = {\n",
    "\n",
    "  \"harmonizacao\": {\n",
    "  \"AMERICAN PALE ALE\": \"Carnes grelhadas e saladas cítricas\",\n",
    "  \"PALE LAGER\": \"Hamburger, carnes vermelha e petiscos\",\n",
    "  \"BROWN ALE\": \"Carnes e petiscos\",\n",
    "  \"WITBIER\": \"Saladas, frutas do mar e comidas leves\",\n",
    "  \"TRIPEL\": \"Massas e frutos do mar\",\n",
    "  \"BLONDE\": \"Petiscos e frutos do mar\",\n",
    "  \"STRONG\": \"Frutos do mar e massas\",\n",
    "  \"INDIAN PALE ALE\": \"Queijo, carne vermelha, hamburger e petiscos\",\n",
    "  \"FRUIT BEER\": \"Sobremesa\",\n",
    "  },\n",
    "  \"Temperatura ideal\": {\n",
    "  \"AMERICAN PALE ALE\": [8, 12],\n",
    "  \"PALE LAGER\": [0, 4],\n",
    "  \"BROWN ALE\": [8, 12],\n",
    "  \"WITBIER\": [4, 7],\n",
    "  \"TRIPEL\": [4, 7],\n",
    "  \"BLONDE\": [2, 5],\n",
    "  \"STRONG\": [10, 12],\n",
    "  \"INDIAN PALE ALE\": [8, 12],\n",
    "  \"FRUIT BEER\": [7, 10],\n",
    "  }\n",
    "}\n",
    "\n",
    "for i in range(25):  #itera sobre os valores e adiciona na lista array1\n",
    "\n",
    "    temp = []\n",
    "    temp.clear()\n",
    "\n",
    "    p1 = df.iloc[i]['ibu']\n",
    "    temp.append(p1)\n",
    "    p2 = df.iloc[i]['abv (%)']\n",
    "    temp.append(p2)\n",
    "    p3 = df.iloc[i]['corpo']\n",
    "    temp.append(p3)\n",
    "    p4 = df.iloc[i]['aroma']\n",
    "    temp.append(p4)\n",
    "    p5 = df.iloc[i]['tipo']\n",
    "    temp.append(p5)\n",
    "    #p6 = dp.iloc[][\"preco\"]\n",
    "    #temp.append(p6)\n",
    "\n",
    "    array1.append(temp)\n",
    "\n",
    "X = np.array(array1) #transforma a lista array1 em numpy\n",
    "\n",
    "\n",
    "kmeans = KMeans(n_clusters=8, random_state=0).fit(X)\n",
    "#pega todas a variaveis e as coloca em 10 grupos (mais parecidas)\n",
    "kmeans.labels_\n",
    "\n",
    "#kmeans.predict([])"
   ]
  },
  {
   "cell_type": "code",
   "execution_count": null,
   "metadata": {},
   "outputs": [],
   "source": []
  }
 ],
 "metadata": {
  "interpreter": {
   "hash": "258c10f8eed13c9d15ce732de25e4decde46dc98328f7bafb9288aeb0c0ac456"
  },
  "kernelspec": {
   "display_name": "Python 3.8.8 64-bit ('base': conda)",
   "name": "python3"
  },
  "language_info": {
   "codemirror_mode": {
    "name": "ipython",
    "version": 3
   },
   "file_extension": ".py",
   "mimetype": "text/x-python",
   "name": "python",
   "nbconvert_exporter": "python",
   "pygments_lexer": "ipython3",
   "version": "3.8.8"
  },
  "orig_nbformat": 4
 },
 "nbformat": 4,
 "nbformat_minor": 2
}
