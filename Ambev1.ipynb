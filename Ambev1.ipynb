{
 "cells": [
  {
   "cell_type": "code",
   "execution_count": 11,
   "metadata": {},
   "outputs": [
    {
     "data": {
      "text/plain": [
       "array([2, 2, 6, 1, 2, 3, 1, 0, 6, 7, 4, 1, 0, 3, 7, 5, 5, 3, 5, 2, 5, 1,\n",
       "       0, 7, 1])"
      ]
     },
     "execution_count": 11,
     "metadata": {},
     "output_type": "execute_result"
    }
   ],
   "source": [
    "import pandas as pd\n",
    "from sklearn.cluster import KMeans\n",
    "import numpy as np\n",
    "\n",
    "#importando base de dados\n",
    "df = pd.read_csv(\"MLiHops.csv\")\n",
    "\n",
    "array1 = []\n",
    "\n",
    "for i in range(25):  #itera sobre os valores e adiciona na lista array1\n",
    "\n",
    "    temp = []\n",
    "    temp.clear()\n",
    "\n",
    "    p1 = df.iloc[i]['ibu']\n",
    "    temp.append(p1)\n",
    "    p2 = df.iloc[i]['abv (%)']\n",
    "    temp.append(p2)\n",
    "    p3 = df.iloc[i]['corpo']\n",
    "    temp.append(p3)\n",
    "    p4 = df.iloc[i]['aroma']\n",
    "    temp.append(p4)\n",
    "    p5 = df.iloc[i]['tipo']\n",
    "    temp.append(p5)\n",
    "\n",
    "    array1.append(temp)\n",
    "\n",
    "X = np.array(array1) #transforma a lista array1 em numpy\n",
    "\n",
    "\n",
    "\n",
    "kmeans = KMeans(n_clusters=8, random_state=0).fit(X)\n",
    "#pega todas a variaveis e as coloca em 8 grupos (mais parecidas)\n",
    "kmeans.labels_\n",
    "\n",
    "#kmeans.predict([])"
   ]
  },
  {
   "cell_type": "code",
   "execution_count": null,
   "metadata": {},
   "outputs": [],
   "source": []
  }
 ],
 "metadata": {
  "interpreter": {
   "hash": "258c10f8eed13c9d15ce732de25e4decde46dc98328f7bafb9288aeb0c0ac456"
  },
  "kernelspec": {
   "display_name": "Python 3.8.8 64-bit ('base': conda)",
   "name": "python3"
  },
  "language_info": {
   "codemirror_mode": {
    "name": "ipython",
    "version": 3
   },
   "file_extension": ".py",
   "mimetype": "text/x-python",
   "name": "python",
   "nbconvert_exporter": "python",
   "pygments_lexer": "ipython3",
   "version": "3.8.8"
  },
  "orig_nbformat": 4
 },
 "nbformat": 4,
 "nbformat_minor": 2
}
