{
 "cells": [
  {
   "cell_type": "code",
   "execution_count": 6,
   "id": "622c625a",
   "metadata": {},
   "outputs": [
    {
     "name": "stdout",
     "output_type": "stream",
     "text": [
      "database ativa:  ('db_usuario',)\n",
      "criando tabela ...\n",
      "tabela criada\n",
      "preenchendo tabela ...\n",
      "programa finalizado\n"
     ]
    }
   ],
   "source": [
    "#TABELA DO USUARIO MESMO POSTAL CODE\n",
    "#DATA (DATA)\n",
    "#LOCAL (POSTAL CODE, LOG, LAT)\n",
    "#BEER (SUBRAND)\n",
    "#TTC (SUBSTITUIR POR PRECO/ML)\n",
    "#DATA | POSTAL CODE | LOG | LAT | SUBRAND | TTC\n",
    "#SUBSTITUICOES : TTC-> PRECO POR ML\n",
    "#     TIRAR POSTAL CODE (todos da tabela\n",
    "#vao ser do mesmo)\n",
    "\n",
    "\n",
    "#\n",
    "#      ESSE PROGRAMA CONVERTE CSV EM MYSQL\n",
    "#\n",
    "\n",
    "#--------------------------------------------------------------------------------------------\n",
    "\n",
    "\n",
    "import pandas as pd\n",
    "\n",
    "#colocar qualquer csv para transforma-lo em mySQL\n",
    "#precisa ser delimitado por ,\n",
    "\n",
    "empdata = pd.read_csv(r'tabela_ambev_sql.csv',index_col=False, delimiter=',')\n",
    "empdata.head()\n",
    "\n",
    "import mysql.connector as msql\n",
    "\n",
    "from mysql.connector import Error\n",
    "try:\n",
    "    conn = msql.connect(host='127.0.0.1', database = 'db_usuario',\n",
    "                              user='root', passwd='joaoeduardomiguel') #123\n",
    "     \n",
    "    if conn.is_connected(): #123\n",
    "        cursor = conn.cursor() #123\n",
    "        cursor.execute(\"select database();\")\n",
    "        record = cursor.fetchone()\n",
    "        print(\"database ativa: \", record)\n",
    "        table_name = 'user_table'\n",
    "        cursor.execute(f'DROP TABLE IF EXISTS {table_name};')\n",
    "        print('criando tabela ...')\n",
    "# MySQL COMANDOS \n",
    "\n",
    "        # corrigir type \n",
    "        cursor.execute(f'''CREATE TABLE {table_name}(Doc_Date varchar(255),\n",
    "                       Postal_Code INT,Sous_groupement varchar(255),Subrand varchar(255),\n",
    "                       Latitude varchar(255),Longitude varchar(255),TTC varchar(255))''')\n",
    "        \n",
    "        \n",
    "        print(\"tabela criada\")\n",
    "        print(\"preenchendo tabela ...\")\n",
    "\n",
    "        #LOOP DATAFRAME\n",
    "        for i,row in empdata.iterrows():\n",
    "            #%s -> string (trocar para type correto da coluna)\n",
    "            \n",
    "            sql = '''INSERT INTO db_usuario.user_table VALUES \n",
    "            (%s,%s,%s,%s,%s,%s,%s)'''\n",
    "            \n",
    "            cursor.execute(sql, tuple(row))\n",
    "            #print(\"data inserida\")\n",
    "            # the connection is not auto committed by default, so we must commit to save our changes\n",
    "            conn.commit() #123\n",
    "except Error as e:\n",
    "            print(\"Error - nao foi possivel conectar com o servidor\", e)\n",
    "\n",
    "print(\"programa finalizado\")"
   ]
  }
 ],
 "metadata": {
  "kernelspec": {
   "display_name": "Python 3",
   "language": "python",
   "name": "python3"
  },
  "language_info": {
   "codemirror_mode": {
    "name": "ipython",
    "version": 3
   },
   "file_extension": ".py",
   "mimetype": "text/x-python",
   "name": "python",
   "nbconvert_exporter": "python",
   "pygments_lexer": "ipython3",
   "version": "3.8.8"
  }
 },
 "nbformat": 4,
 "nbformat_minor": 5
}
