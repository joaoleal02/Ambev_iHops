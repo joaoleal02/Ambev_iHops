{
 "cells": [
  {
   "cell_type": "code",
   "execution_count": 25,
   "id": "734682ed",
   "metadata": {},
   "outputs": [
    {
     "name": "stdout",
     "output_type": "stream",
     "text": [
      "database ativa:  ('db_usuario',)\n",
      "criando tabela ...\n",
      "tabela criada\n",
      "preenchendo tabela ...\n",
      "programa finalizado\n"
     ]
    }
   ],
   "source": [
    "#TABELA DO USUARIO MESMO POSTAL CODE\n",
    "#DATA (DATA)\n",
    "#LOCAL (POSTAL CODE, LOG, LAT)\n",
    "#BEER (SUBRAND)\n",
    "#TTC (SUBSTITUIR POR PRECO/ML)\n",
    "#DATA | POSTAL CODE | LOG | LAT | SUBRAND | TTC\n",
    "#SUBSTITUICOES : TTC-> PRECO POR ML\n",
    "#     TIRAR POSTAL CODE (todos da tabela\n",
    "#vao ser do mesmo)\n",
    "\n",
    "\n",
    "#\n",
    "#      ESSE PROGRAMA CONVERTE CSV EM MYSQL\n",
    "#\n",
    "\n",
    "#--------------------------------------------------------------------------------------------\n",
    "\n",
    "\n",
    "import pandas as pd\n",
    "\n",
    "#colocar qualquer csv para transforma-lo em mySQL\n",
    "#precisa ser delimitado por ,\n",
    "\n",
    "empdata = pd.read_csv(r'csv_tabela.csv',index_col=False, delimiter=',')\n",
    "empdata.head()\n",
    "\n",
    "import mysql.connector as msql\n",
    "\n",
    "from mysql.connector import Error\n",
    "try:\n",
    "    conn = mysql.connect(host='127.0.0.1', database = 'db_usuario',\n",
    "                              user='root', passwd='joaoeduardomiguel')\n",
    "     \n",
    "    if conn.is_connected():\n",
    "        cursor = conn.cursor()\n",
    "        cursor.execute(\"select database();\")\n",
    "        record = cursor.fetchone()\n",
    "        print(\"database ativa: \", record)\n",
    "        cursor.execute('DROP TABLE IF EXISTS user_table;')\n",
    "        print('criando tabela ...')\n",
    "# MySQL COMANDOS \n",
    "        # corrigir type \n",
    "        cursor.execute('''CREATE TABLE user_table(Doc_Date varchar(255),\n",
    "                       Postal_Code varchar(255),Sous_groupement varchar(255),Subrand varchar(255),\n",
    "                       Latitude varchar(255),Longitude varchar(255),TTC varchar(255))''')\n",
    "    \n",
    "        print(\"tabela criada\")\n",
    "        print(\"preenchendo tabela ...\")\n",
    "\n",
    "        #LOOP DATAFRAME\n",
    "        for i,row in empdata.iterrows():\n",
    "            #%s -> string (trocar para type correto da coluna)\n",
    "            \n",
    "            sql = '''INSERT INTO db_usuario.user_table VALUES \n",
    "            (%s,%s,%s,%s,%s,%s,%s)'''\n",
    "            \n",
    "            cursor.execute(sql, tuple(row))\n",
    "            #print(\"data inserida\")\n",
    "            # the connection is not auto committed by default, so we must commit to save our changes\n",
    "            conn.commit()\n",
    "except Error as e:\n",
    "            print(\"Error - nao foi possivel conectar com o servidor\", e)\n",
    "\n",
    "print(\"programa finalizado\")"
   ]
  }
 ],
 "metadata": {
  "kernelspec": {
   "display_name": "Python 3",
   "language": "python",
   "name": "python3"
  },
  "language_info": {
   "codemirror_mode": {
    "name": "ipython",
    "version": 3
   },
   "file_extension": ".py",
   "mimetype": "text/x-python",
   "name": "python",
   "nbconvert_exporter": "python",
   "pygments_lexer": "ipython3",
   "version": "3.8.8"
  }
 },
 "nbformat": 4,
 "nbformat_minor": 5
}
