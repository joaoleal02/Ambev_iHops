{
 "cells": [
  {
   "cell_type": "code",
   "execution_count": 14,
   "metadata": {},
   "outputs": [
    {
     "name": "stdout",
     "output_type": "stream",
     "text": [
      "   id          subrand   ibu  abv (%)  corpo   aroma          Tipo\n",
      "0   1  BIRRA DEL BORGO  20.0      5.0  MEDIO    LEVE  STRONG LAGER\n",
      "1   2              BUD  10.0      5.0   LEVE    LEVE   PALE LAGER \n",
      "2   3   CAMDEN HELLS\\r  29.0      4.6   LEVE   LEVE     PALE LAGER\n",
      "3   4  CAMDEN PALE ALE  39.0      4.0  MEDIO  FRUITY      PALE ALE\n",
      "4   5     CORONA EXTRA  18.0      4.6   LEVE    LEVE    PALE LAGER\n"
     ]
    }
   ],
   "source": [
    "import pandas as pd\n",
    "from sklearn.model_selection import train_test_split\n",
    "from sklearn.ensemble import ExtraTreesClassifier\n",
    "#importando base de dados e criando variaveis endogenas/exogenas\n",
    "df = pd.read_csv(\"C:/Users/Pc/Downloads/ML iHops csv - Página1.csv\")\n",
    "df.drop('id',axis=1)\n",
    "y = df[\"subrand\"]\n",
    "x = df.drop('subrand',axis=1)\n",
    "print(df.head())\n",
    "\n",
    "#treinando o modelo\n",
    "#x_treino,y_treino,x_teste,y_teste = train_test_split(x,y,test_size = 0.2)\n",
    "#modelo = ExtraTreesClassifier()\n",
    "#modelo.fit(x_treino,y_treino)\n",
    "#prediction = modelo.predict()\n",
    "\n",
    "#agora mudou tmb?\n",
    "#pfvr me diz q vai\n"
   ]
  }
 ],
 "metadata": {
  "interpreter": {
   "hash": "c2c440561eadd0fa45e88072f29f5326703e327b87d123de35331166474665ec"
  },
  "kernelspec": {
   "display_name": "Python 3.8.8 64-bit",
   "name": "python3"
  },
  "language_info": {
   "codemirror_mode": {
    "name": "ipython",
    "version": 3
   },
   "file_extension": ".py",
   "mimetype": "text/x-python",
   "name": "python",
   "nbconvert_exporter": "python",
   "pygments_lexer": "ipython3",
   "version": "3.8.8"
  },
  "orig_nbformat": 4
 },
 "nbformat": 4,
 "nbformat_minor": 2
}
